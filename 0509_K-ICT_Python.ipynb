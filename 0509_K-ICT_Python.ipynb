{
 "cells": [
  {
   "cell_type": "code",
   "execution_count": 9,
   "metadata": {
    "collapsed": true
   },
   "outputs": [],
   "source": [
    "from pandas import Series, DataFrame\n",
    "fruitData = {'fruitName' : ['apple', 'banana', 'cherry', 'peer'],\n",
    "             'fruitPrice' : [2500,3800,6000,1200],\n",
    "             'num' : [10,5,3,8]}\n"
   ]
  },
  {
   "cell_type": "code",
   "execution_count": 38,
   "metadata": {
    "collapsed": false
   },
   "outputs": [
    {
     "name": "stdout",
     "output_type": "stream",
     "text": [
      "        fruitPrice  num\n",
      "apple         2500   10\n",
      "banana        3800    5\n",
      "cherry        6000    3\n",
      "peer          1200    8\n",
      "        fruitPrice  num\n",
      "banana        3800    5\n",
      "peer          1200    8\n",
      "        num\n",
      "apple    10\n",
      "banana    5\n",
      "cherry    3\n",
      "peer      8\n"
     ]
    }
   ],
   "source": [
    "fruitName = fruitData['fruitName']\n",
    "fruitFrame = DataFrame(fruitData,index = fruitName, columns = ['fruitPrice', 'num'])\n",
    "fruitFrame2 = fruitFrame.drop(['apple', 'cherry']) #delete index, axis=0 (0 : default = index)\n",
    "fruitFrame3 = fruitFrame.drop(['fruitPrice'], axis =1) #delete column, axis=1 (1 -> column?)\n",
    "print(fruitFrame)\n",
    "print(fruitFrame2)\n",
    "print(fruitFrame3)"
   ]
  },
  {
   "cell_type": "code",
   "execution_count": 19,
   "metadata": {
    "collapsed": false
   },
   "outputs": [
    {
     "name": "stdout",
     "output_type": "stream",
     "text": [
      "        fruitPrice  num\n",
      "apple         2500   10\n",
      "banana        3800    5\n",
      "cherry        6000    3\n",
      "peer          1200    8\n",
      "apple     2500\n",
      "banana    3800\n",
      "cherry    6000\n",
      "peer      1200\n",
      "Name: fruitPrice, dtype: int64\n",
      "        fruitPrice  num\n",
      "apple         2500   10\n",
      "banana        3800    5\n"
     ]
    }
   ],
   "source": [
    "fruitName = fruitData['fruitName']\n",
    "fruitFrame = DataFrame(fruitData, index = fruitName, columns = ['fruitPrice', 'num'])\n",
    "print(fruitFrame)\n",
    "print(fruitFrame['fruitPrice'])\n",
    "print(fruitFrame['apple':'banana'])"
   ]
  },
  {
   "cell_type": "code",
   "execution_count": 40,
   "metadata": {
    "collapsed": false
   },
   "outputs": [
    {
     "name": "stdout",
     "output_type": "stream",
     "text": [
      "        Ohio  Texas\n",
      "apple      4      0\n",
      "banana     8      1\n",
      "cherry     3      2\n",
      "peer       5      3\n",
      "        Ohio  Colorado\n",
      "apple      3         5\n",
      "orange     0         4\n",
      "banana     2         3\n",
      "cherry     1         6\n",
      "mango      7         0\n",
      "        Colorado  Ohio  Texas\n",
      "apple        NaN   7.0    NaN\n",
      "banana       NaN  10.0    NaN\n",
      "cherry       NaN   4.0    NaN\n",
      "mango        NaN   NaN    NaN\n",
      "orange       NaN   NaN    NaN\n",
      "peer         NaN   NaN    NaN\n"
     ]
    }
   ],
   "source": [
    "fruitData1 = {'Ohio' : [4,8,3,5],'Texas' : [0,1,2,3]} \n",
    "fruitFrame1 = DataFrame(fruitData1,columns=['Ohio','Texas'],index = ['apple','banana','cherry','peer']) \n",
    "fruitData2 = {'Ohio' : [3,0,2,1,7],'Colorado':[5,4,3,6,0]} \n",
    "fruitFrame2 = DataFrame(fruitData2,columns =['Ohio','Colorado'],index = ['apple','orange','banana','cherry','mango'])\n",
    "print(fruitFrame1) \n",
    "print(fruitFrame2) \n",
    "print(fruitFrame1 + fruitFrame2)\n",
    "\n",
    "# Dataframe 은 column 이 존재하기 때문에 column 까지 같이 모두 함께 연산된다. \n",
    "# 컬럼 또한 NaN이 하나라도 존재하는 row는 모두 NaN 처리가 된다."
   ]
  },
  {
   "cell_type": "code",
   "execution_count": 43,
   "metadata": {
    "collapsed": false
   },
   "outputs": [
    {
     "name": "stdout",
     "output_type": "stream",
     "text": [
      "        num  fruitPrice\n",
      "apple    10        2500\n",
      "banana    5        3800\n",
      "cherry    3        6000\n",
      "peer      8        1200\n",
      "        num  fruitPrice\n",
      "apple    10        2500\n",
      "banana    5        3800\n",
      "cherry    3        6000\n",
      "peer      8        1200\n",
      "        fruitPrice  num\n",
      "apple         2500   10\n",
      "banana        3800    5\n",
      "cherry        6000    3\n",
      "peer          1200    8\n"
     ]
    }
   ],
   "source": [
    "fruitName = fruitData['fruitName']\n",
    "fruitFrame = DataFrame(fruitData, index=fruitName, columns = ['num', 'fruitPrice'])\n",
    "print(fruitFrame)\n",
    "print(fruitFrame.sort_index()) #sort by index\n",
    "print(fruitFrame.sort_index(axis=1)) #sort by column"
   ]
  },
  {
   "cell_type": "code",
   "execution_count": 48,
   "metadata": {
    "collapsed": false
   },
   "outputs": [
    {
     "data": {
      "text/html": [
       "<div>\n",
       "<table border=\"1\" class=\"dataframe\">\n",
       "  <thead>\n",
       "    <tr style=\"text-align: right;\">\n",
       "      <th></th>\n",
       "      <th>num</th>\n",
       "      <th>fruitPrice</th>\n",
       "    </tr>\n",
       "  </thead>\n",
       "  <tbody>\n",
       "    <tr>\n",
       "      <th>peer</th>\n",
       "      <td>8</td>\n",
       "      <td>1200</td>\n",
       "    </tr>\n",
       "    <tr>\n",
       "      <th>apple</th>\n",
       "      <td>10</td>\n",
       "      <td>2500</td>\n",
       "    </tr>\n",
       "    <tr>\n",
       "      <th>banana</th>\n",
       "      <td>5</td>\n",
       "      <td>3800</td>\n",
       "    </tr>\n",
       "    <tr>\n",
       "      <th>cherry</th>\n",
       "      <td>3</td>\n",
       "      <td>6000</td>\n",
       "    </tr>\n",
       "  </tbody>\n",
       "</table>\n",
       "</div>"
      ],
      "text/plain": [
       "        num  fruitPrice\n",
       "peer      8        1200\n",
       "apple    10        2500\n",
       "banana    5        3800\n",
       "cherry    3        6000"
      ]
     },
     "execution_count": 48,
     "metadata": {},
     "output_type": "execute_result"
    }
   ],
   "source": [
    "fruitFrame.sort_values(by=['fruitPrice', 'num'])\n",
    "# 기준을 여러칼럼으로 하고 싶을 때는 by 안의 리스트에 여러 개의 column 이름을 지정하면 된다."
   ]
  },
  {
   "cell_type": "code",
   "execution_count": 78,
   "metadata": {
    "collapsed": false
   },
   "outputs": [],
   "source": [
    "german = pd.read_csv(\"http://freakonometrics.free.fr/german_credit.csv\")\n",
    "german_sample = DataFrame(german, columns = ['Creditability', 'Account Balance', \n",
    "                       'Duration of Credit (month)', 'Payment Status of Previous Credit'])"
   ]
  },
  {
   "cell_type": "code",
   "execution_count": 83,
   "metadata": {
    "collapsed": false
   },
   "outputs": [
    {
     "name": "stdout",
     "output_type": "stream",
     "text": [
      "['Creditability', 'Account Balance', 'Duration of Credit (month)', 'Payment Status of Previous Credit']\n",
      "Creditability                        0\n",
      "Account Balance                      1\n",
      "Duration of Credit (month)           4\n",
      "Payment Status of Previous Credit    0\n",
      "dtype: int64\n",
      "Creditability                         1\n",
      "Account Balance                       4\n",
      "Duration of Credit (month)           72\n",
      "Payment Status of Previous Credit     4\n",
      "dtype: int64\n",
      "Creditability                         0.700\n",
      "Account Balance                       2.577\n",
      "Duration of Credit (month)           20.903\n",
      "Payment Status of Previous Credit     2.545\n",
      "dtype: float64\n",
      "       Creditability  Account Balance  Duration of Credit (month)  \\\n",
      "count    1000.000000      1000.000000                 1000.000000   \n",
      "mean        0.700000         2.577000                   20.903000   \n",
      "std         0.458487         1.257638                   12.058814   \n",
      "min         0.000000         1.000000                    4.000000   \n",
      "25%         0.000000         1.000000                   12.000000   \n",
      "50%         1.000000         2.000000                   18.000000   \n",
      "75%         1.000000         4.000000                   24.000000   \n",
      "max         1.000000         4.000000                   72.000000   \n",
      "\n",
      "       Payment Status of Previous Credit  \n",
      "count                         1000.00000  \n",
      "mean                             2.54500  \n",
      "std                              1.08312  \n",
      "min                              0.00000  \n",
      "25%                              2.00000  \n",
      "50%                              2.00000  \n",
      "75%                              4.00000  \n",
      "max                              4.00000  \n"
     ]
    }
   ],
   "source": [
    "print(list(german_sample.columns))\n",
    "print(german_sample.min())\n",
    "print(german_sample.max())\n",
    "print(german_sample.mean())\n",
    "print(german_sample.describe())"
   ]
  },
  {
   "cell_type": "code",
   "execution_count": 94,
   "metadata": {
    "collapsed": false
   },
   "outputs": [
    {
     "data": {
      "text/plain": [
       "Purpose  Type of apartment\n",
       "0        1                    2597.225000\n",
       "         2                    2811.024242\n",
       "         3                    5138.689655\n",
       "1        1                    5037.086957\n",
       "         2                    4915.222222\n",
       "         3                    6609.923077\n",
       "2        1                    2727.354167\n",
       "         2                    3107.450820\n",
       "         3                    4100.181818\n",
       "3        1                    2199.763158\n",
       "         2                    2540.533040\n",
       "         3                    2417.333333\n",
       "4        1                    1255.500000\n",
       "         2                    1546.500000\n",
       "5        1                    1522.000000\n",
       "         2                    2866.000000\n",
       "         3                    2750.666667\n",
       "6        1                    3156.444444\n",
       "         2                    2492.423077\n",
       "         3                    4387.266667\n",
       "8        1                     902.000000\n",
       "         2                    1243.875000\n",
       "9        1                    5614.125000\n",
       "         2                    3800.592105\n",
       "         3                    4931.800000\n",
       "10       2                    8576.111111\n",
       "         3                    7109.000000\n",
       "Name: Credit Amount, dtype: float64"
      ]
     },
     "execution_count": 94,
     "metadata": {},
     "output_type": "execute_result"
    }
   ],
   "source": [
    "german_grouped=german['Credit Amount'].groupby(german['Type of apartment']) \n",
    "german_grouped.mean()\n",
    "\n",
    "german_grouped2 = german['Credit Amount'].groupby([german['Purpose'],german['Type of apartment']])\n",
    "german_grouped2.mean()"
   ]
  },
  {
   "cell_type": "code",
   "execution_count": 103,
   "metadata": {
    "collapsed": false
   },
   "outputs": [
    {
     "name": "stdout",
     "output_type": "stream",
     "text": [
      "1\n",
      "   Type of apartment  Sex & Marital Status  Credit Amount\n",
      "0                  1                     2           1049\n",
      "1                  1                     3           2799\n",
      "2                  1                     2            841\n",
      "2\n",
      "   Type of apartment  Sex & Marital Status  Credit Amount\n",
      "4                  2                     3           2171\n",
      "6                  2                     3           3398\n",
      "7                  2                     3           1361\n",
      "3\n",
      "    Type of apartment  Sex & Marital Status  Credit Amount\n",
      "29                  3                     3           4796\n",
      "44                  3                     3           1239\n",
      "69                  3                     3           2032\n"
     ]
    }
   ],
   "source": [
    "german=pd.read_csv(\"http://freakonometrics.free.fr/german_credit.csv\")\n",
    "german_sample = german[['Type of apartment', 'Sex & Marital Status', 'Credit Amount']]\n",
    "german_sample.groupby('Type of apartment')\n",
    "for type, group in german_sample.groupby('Type of apartment'):\n",
    "    print(type)\n",
    "    print(group.head(n=3))"
   ]
  },
  {
   "cell_type": "code",
   "execution_count": 105,
   "metadata": {
    "collapsed": true
   },
   "outputs": [],
   "source": [
    "import numpy as np"
   ]
  },
  {
   "cell_type": "code",
   "execution_count": 120,
   "metadata": {
    "collapsed": false
   },
   "outputs": [
    {
     "name": "stdout",
     "output_type": "stream",
     "text": [
      "[1 2 3 4]\n"
     ]
    }
   ],
   "source": [
    "arr = np.array([1,2,3,4])\n",
    "print(arr)"
   ]
  },
  {
   "cell_type": "code",
   "execution_count": 116,
   "metadata": {
    "collapsed": false
   },
   "outputs": [
    {
     "name": "stdout",
     "output_type": "stream",
     "text": [
      "[[ 0.  0.  0.]\n",
      " [ 0.  0.  0.]\n",
      " [ 0.  0.  0.]]\n",
      "[[ 1.  1.]\n",
      " [ 1.  1.]]\n",
      "[[ 0.  0.  0.  0.]\n",
      " [ 0.  0.  0.  0.]\n",
      " [ 0.  0.  0.  0.]\n",
      " [ 0.  0.  0.  0.]]\n"
     ]
    }
   ],
   "source": [
    "print(np.zeros((3,3)))\n",
    "print(np.ones((2,2)))\n",
    "print(np.empty((4,4)))"
   ]
  },
  {
   "cell_type": "code",
   "execution_count": 126,
   "metadata": {
    "collapsed": false
   },
   "outputs": [
    {
     "name": "stdout",
     "output_type": "stream",
     "text": [
      "[0 1 2 3 4 5 6 7 8 9]\n",
      "[[1 2 3]\n",
      " [4 5 6]]\n",
      "(2, 3)\n",
      "2\n",
      "int64\n"
     ]
    }
   ],
   "source": [
    "print(np.arange(10))\n",
    "print(np.array([[1,2,3],[4,5,6]]))\n",
    "\n",
    "arr = np.array([[1,2,3],[4,5,6]])\n",
    "print(arr.shape)\n",
    "print(arr.ndim)\n",
    "print(arr.dtype)"
   ]
  },
  {
   "cell_type": "code",
   "execution_count": 131,
   "metadata": {
    "collapsed": false
   },
   "outputs": [
    {
     "name": "stdout",
     "output_type": "stream",
     "text": [
      "int64\n",
      "float64\n",
      "<U1\n",
      "int64\n"
     ]
    }
   ],
   "source": [
    "arr_int = np.array([1,2,3,4])\n",
    "arr_float = arr_int.astype(np.float64)\n",
    "print(arr_int.dtype)\n",
    "print(arr_float.dtype)\n",
    "\n",
    "arr_str = np.array(['1', '2', '3'])\n",
    "arr_int = arr_str.astype(np.int64)\n",
    "print(arr_str.dtype)\n",
    "print(arr_int.dtype)"
   ]
  },
  {
   "cell_type": "code",
   "execution_count": 135,
   "metadata": {
    "collapsed": false
   },
   "outputs": [
    {
     "name": "stdout",
     "output_type": "stream",
     "text": [
      "[[ 6  8]\n",
      " [10 12]]\n",
      "[[-4 -4]\n",
      " [-4 -4]]\n",
      "[[ 5 12]\n",
      " [21 32]]\n",
      "[[ 0.2         0.33333333]\n",
      " [ 0.42857143  0.5       ]]\n"
     ]
    },
    {
     "data": {
      "text/plain": [
       "array([[19, 22],\n",
       "       [43, 50]])"
      ]
     },
     "execution_count": 135,
     "metadata": {},
     "output_type": "execute_result"
    }
   ],
   "source": [
    "arr1 = np.array([[1,2], [3,4]])\n",
    "arr2 = np.array([[5,6], [7,8]])\n",
    "print(arr1 + arr2)\n",
    "print(arr1 - arr2)\n",
    "print(arr1 * arr2)\n",
    "print(arr1 / arr2)\n",
    "\n",
    "arr1.dot(arr2)\n",
    "np.dot(arr1, arr2)"
   ]
  },
  {
   "cell_type": "code",
   "execution_count": 145,
   "metadata": {
    "collapsed": false
   },
   "outputs": [
    {
     "name": "stdout",
     "output_type": "stream",
     "text": [
      "[[2 3]\n",
      " [5 6]]\n",
      "3\n",
      "[3 4 8]\n",
      "\n",
      "[[False False False]\n",
      " [ True  True  True]]\n",
      "[4 5 6]\n"
     ]
    }
   ],
   "source": [
    "arr = np.array([[1,2,3],[4,5,6],[7,8,9]])\n",
    "arr_1 = arr[:2,1:3]\n",
    "arr_2 = arr[0,2]\n",
    "arr_3 = arr[[0,1,2],[2,0,1]]\n",
    "\n",
    "print(arr_1)\n",
    "print(arr_2)\n",
    "print(arr_3)\n",
    "print()\n",
    "\n",
    "arr = np.array([[1,2,3],[4,5,6]])\n",
    "idx = arr > 3 #make boolean array (shape of arr)\n",
    "print(idx)\n",
    "print(arr[idx])"
   ]
  },
  {
   "cell_type": "code",
   "execution_count": 173,
   "metadata": {
    "collapsed": false
   },
   "outputs": [
    {
     "name": "stdout",
     "output_type": "stream",
     "text": [
      "7.4       13295.70000\n",
      "0.7         843.28500\n",
      "0           433.29000\n",
      "1.9        4057.65000\n",
      "0.076       139.78300\n",
      "11        25373.00000\n",
      "34        74268.00000\n",
      "0.9978     1592.80014\n",
      "3.51       5290.96000\n",
      "0.56       1051.82000\n",
      "9.4       16656.95000\n",
      "5          9007.00000\n",
      "dtype: float64\n",
      "7.4        8.320213\n",
      "0.7        0.527713\n",
      "0          0.271145\n",
      "1.9        2.539205\n",
      "0.076      0.087474\n",
      "11        15.877972\n",
      "34        46.475594\n",
      "0.9978     0.996746\n",
      "3.51       3.310989\n",
      "0.56       0.658210\n",
      "9.4       10.423623\n",
      "5          5.636421\n",
      "dtype: float64\n",
      "7.4        8.320213\n",
      "0.7        0.527713\n",
      "0          0.271145\n",
      "1.9        2.539205\n",
      "0.076      0.087474\n",
      "11        15.877972\n",
      "34        46.475594\n",
      "0.9978     0.996746\n",
      "3.51       3.310989\n",
      "0.56       0.658210\n",
      "9.4       10.423623\n",
      "5          5.636421\n",
      "dtype: float64\n",
      "7.4        15.90000\n",
      "0.7         1.58000\n",
      "0           1.00000\n",
      "1.9        15.50000\n",
      "0.076       0.61100\n",
      "11         72.00000\n",
      "34        289.00000\n",
      "0.9978      1.00369\n",
      "3.51        4.01000\n",
      "0.56        2.00000\n",
      "9.4        14.90000\n",
      "5           8.00000\n",
      "dtype: float64\n",
      "7.4       4.60000\n",
      "0.7       0.12000\n",
      "0         0.00000\n",
      "1.9       0.90000\n",
      "0.076     0.01200\n",
      "11        1.00000\n",
      "34        6.00000\n",
      "0.9978    0.99007\n",
      "3.51      2.74000\n",
      "0.56      0.33000\n",
      "9.4       8.40000\n",
      "5         3.00000\n",
      "dtype: float64\n"
     ]
    }
   ],
   "source": [
    "redwine = pd.read_csv(\"https://archive.ics.uci.edu/ml/machine-learning-databases/wine-quality/winequality-red.csv\",\n",
    "                     delimiter = ';', skiprows = 1)\n",
    "# wget http://goo.gl/EKPKth\n",
    "# mv EKPKth winequality-red.csv\n",
    "# redwine = np.loadtxt(fname = '/home/eduuser/winequality-red.csv', delimiter = ';', skiprows = 1)\n",
    "\n",
    "# numpy라이브러리 안에 loadtxt함수를 실행하여 텍스트 파일을 불러올 수 있다. \n",
    "# fname에는winequality-red.csv파일이 위치한 디렉토리를 입력한다. \n",
    "# csv파일의 구분자가 ; 이기 때문에 delimiter=’;’을 해주고, 변수인 첫 행은 불러 오지 않기 때문에 skiprows=1를 해준다.\n",
    "\n",
    "print(redwine.sum())\n",
    "print(redwine.mean())\n",
    "print(redwine.mean(axis = 0))\n",
    "\n",
    "print(redwine.max(axis = 0))\n",
    "print(redwine.min(axis = 0))"
   ]
  },
  {
   "cell_type": "code",
   "execution_count": 175,
   "metadata": {
    "collapsed": false
   },
   "outputs": [
    {
     "data": {
      "image/png": "[encoded data removed]",
      "text/plain": [
       "<matplotlib.figure.Figure at 0x7f91fcd60f28>"
      ]
     },
     "metadata": {},
     "output_type": "display_data"
    }
   ],
   "source": [
    "import matplotlib.pyplot as plt\n",
    "plt.plot([2010,2011,2012,2013,2014,2015,2016],\n",
    "         [43475, 44276, 43689, 45236, 46403, 48050, 59098])\n",
    "plt.show()"
   ]
  },
  {
   "cell_type": "code",
   "execution_count": 178,
   "metadata": {
    "collapsed": false
   },
   "outputs": [
    {
     "data": {
      "image/png": "[encoded data removed]",
      "text/plain": [
       "<matplotlib.figure.Figure at 0x7f91fcc57198>"
      ]
     },
     "metadata": {},
     "output_type": "display_data"
    }
   ],
   "source": [
    "x = [2010, 2011, 2012, 2013, 2014, 2015, 2016]\n",
    "y1 = [43475, 44276, 43689, 45236, 46403, 48050, 59098]\n",
    "y2 = [11594, 11499, 11176, 11471, 11587, 11911, 12399]\n",
    "y3 = [5426, 5580, 5517, 5524, 5566, 5735, 5944]\n",
    "\n",
    "plt.plot(x, y1, label=\"Highway station\")\n",
    "plt.plot(x, y2, label=\"National Route\")\n",
    "plt.plot(x, y3, label=\"Provincial Road\")\n",
    "\n",
    "\n",
    "plt.xlabel(\"Year\")\n",
    "plt.ylabel(\"Traffic Volume\")\n",
    "plt.title(\"Traffic Line Graph\")\n",
    "\n",
    "plt.legend()\n",
    "plt.show()"
   ]
  }
 ],
 "metadata": {
  "kernelspec": {
   "display_name": "Python 3",
   "language": "python",
   "name": "python3"
  },
  "language_info": {
   "codemirror_mode": {
    "name": "ipython",
    "version": 3
   },
   "file_extension": ".py",
   "mimetype": "text/x-python",
   "name": "python",
   "nbconvert_exporter": "python",
   "pygments_lexer": "ipython3",
   "version": "3.6.0"
  }
 },
 "nbformat": 4,
 "nbformat_minor": 2
}
