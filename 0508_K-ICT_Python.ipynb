{
 "cells": [
  {
   "cell_type": "code",
   "execution_count": 2,
   "metadata": {
    "collapsed": true
   },
   "outputs": [],
   "source": [
    "import numpy as np\n",
    "import matplotlib.pyplot as plt\n",
    "import pandas as pd"
   ]
  },
  {
   "cell_type": "code",
   "execution_count": 17,
   "metadata": {
    "collapsed": false,
    "scrolled": true
   },
   "outputs": [
    {
     "data": {
      "text/plain": [
       "array([[ 0.84789148,  0.14833255],\n",
       "       [ 0.14722552,  0.16708592],\n",
       "       [ 0.93840016,  0.37308816],\n",
       "       [ 0.07529348,  0.69392473],\n",
       "       [ 0.89523498,  0.92926352],\n",
       "       [ 0.28513962,  0.04473662],\n",
       "       [ 0.03819843,  0.6295696 ],\n",
       "       [ 0.9537664 ,  0.46865733],\n",
       "       [ 0.63092942,  0.57787364],\n",
       "       [ 0.09993529,  0.57369794]])"
      ]
     },
     "execution_count": 17,
     "metadata": {},
     "output_type": "execute_result"
    }
   ],
   "source": [
    "from numpy import *\n",
    "random.rand(10, 2)"
   ]
  },
  {
   "cell_type": "code",
   "execution_count": 19,
   "metadata": {
    "collapsed": false
   },
   "outputs": [
    {
     "name": "stdout",
     "output_type": "stream",
     "text": [
      "3\n"
     ]
    }
   ],
   "source": [
    "a = 3\n",
    "print(a)"
   ]
  },
  {
   "cell_type": "code",
   "execution_count": 24,
   "metadata": {
    "collapsed": false
   },
   "outputs": [
    {
     "name": "stdout",
     "output_type": "stream",
     "text": [
      "4512.230000asdf\n"
     ]
    }
   ],
   "source": [
    "a = 45\n",
    "b = 12.23\n",
    "c = \"asdf\"\n",
    "\n",
    "print(\"%d%f%s\"%(a,b,c))"
   ]
  },
  {
   "cell_type": "code",
   "execution_count": 46,
   "metadata": {
    "collapsed": false
   },
   "outputs": [
    {
     "name": "stdout",
     "output_type": "stream",
     "text": [
      "2\n"
     ]
    }
   ],
   "source": [
    "a = 7\n",
    "b = 3\n",
    "print(a//b) #2\n",
    "print(a%3) #1\n",
    "print(a**b) #343"
   ]
  },
  {
   "cell_type": "code",
   "execution_count": 51,
   "metadata": {
    "collapsed": false
   },
   "outputs": [
    {
     "data": {
      "text/plain": [
       "'python is easy'"
      ]
     },
     "execution_count": 51,
     "metadata": {},
     "output_type": "execute_result"
    }
   ],
   "source": [
    "temp = 'python is easy'\n",
    "temp # 'python is easy'\n",
    "print(temp) #python is easy"
   ]
  },
  {
   "cell_type": "code",
   "execution_count": 55,
   "metadata": {
    "collapsed": false
   },
   "outputs": [
    {
     "data": {
      "text/plain": [
       "14"
      ]
     },
     "execution_count": 55,
     "metadata": {},
     "output_type": "execute_result"
    }
   ],
   "source": [
    "len(temp)"
   ]
  },
  {
   "cell_type": "code",
   "execution_count": 56,
   "metadata": {
    "collapsed": false
   },
   "outputs": [
    {
     "data": {
      "text/plain": [
       "'pythonis easy'"
      ]
     },
     "execution_count": 56,
     "metadata": {},
     "output_type": "execute_result"
    }
   ],
   "source": [
    "'python ' + 'is easy' #'pythonis easy'\n",
    "'python' + 'is easy' #'python is easy'"
   ]
  },
  {
   "cell_type": "code",
   "execution_count": 62,
   "metadata": {
    "collapsed": false
   },
   "outputs": [
    {
     "name": "stdout",
     "output_type": "stream",
     "text": [
      "python is easy\n"
     ]
    },
    {
     "data": {
      "text/plain": [
       "'python is easy'"
      ]
     },
     "execution_count": 62,
     "metadata": {},
     "output_type": "execute_result"
    }
   ],
   "source": [
    "a = 'python '\n",
    "b = 'is easy'\n",
    "print(a+b)\n",
    "a+b"
   ]
  },
  {
   "cell_type": "code",
   "execution_count": 64,
   "metadata": {
    "collapsed": false
   },
   "outputs": [
    {
     "data": {
      "text/plain": [
       "'pytho'"
      ]
     },
     "execution_count": 64,
     "metadata": {},
     "output_type": "execute_result"
    }
   ],
   "source": [
    "temp[0:5]"
   ]
  },
  {
   "cell_type": "code",
   "execution_count": 6,
   "metadata": {
    "collapsed": false
   },
   "outputs": [],
   "source": [
    "temp = 'python is easy'\n",
    "temp2 = 'python,java,R,SAS'\n",
    "temp = temp.split()\n",
    "temp2 = temp2.split(',')"
   ]
  },
  {
   "cell_type": "code",
   "execution_count": 12,
   "metadata": {
    "collapsed": false
   },
   "outputs": [
    {
     "data": {
      "text/plain": [
       "'python,java,R,SAS'"
      ]
     },
     "execution_count": 12,
     "metadata": {},
     "output_type": "execute_result"
    }
   ],
   "source": [
    "','.join(temp2)\n",
    "#list -> connect each word\n",
    "#non-list -> input 'n'"
   ]
  },
  {
   "cell_type": "code",
   "execution_count": 3,
   "metadata": {
    "collapsed": false
   },
   "outputs": [
    {
     "name": "stdout",
     "output_type": "stream",
     "text": [
      "is\n"
     ]
    }
   ],
   "source": [
    "temp = 'python is easy'\n",
    "print(temp[7:9])"
   ]
  },
  {
   "cell_type": "code",
   "execution_count": 18,
   "metadata": {
    "collapsed": false
   },
   "outputs": [
    {
     "name": "stdout",
     "output_type": "stream",
     "text": [
      "cc\n",
      "['bb', 'cc']\n",
      "['aa', 'cc', 'ee']\n",
      "['AA', 'bb', 'cc', 'dd', 'ee']\n",
      "['AA', 'bb', 'cc', 'dd', 'ee', 'ff']\n",
      "['bb', 'cc', 'dd', 'ee', 'ff']\n",
      "['bb', 'cc', 'dd', 'ee']\n",
      "['aa', 'bb', 'cc', ['dd', 'ee']]\n",
      "['aa', 'bb', 'cc', 'dd', 'ee']\n",
      "['four', 'one', 'three', 'two']\n",
      "['one', 'two', 'three', 'four']\n",
      "['four', 'one', 'three', 'two']\n"
     ]
    }
   ],
   "source": [
    "temp = [\"aa\", \"bb\", \"cc\", \"dd\", \"ee\"]\n",
    "print(temp[2]) #cc\n",
    "print(temp[1:3]) #['bb', 'cc']\n",
    "print(temp[::2]) #['aa', 'cc', 'ee']\n",
    "\n",
    "temp[0] = \"AA\"\n",
    "print(temp) #['AA', 'bb', 'cc', 'dd', 'ee']\n",
    "\n",
    "temp.append(\"ff\")\n",
    "print(temp) #['AA', 'bb', 'cc', 'dd', 'ee', 'ff']\n",
    "\n",
    "del temp[0]\n",
    "print(temp) #['bb', 'cc', 'dd', 'ee', 'ff']\n",
    "\n",
    "temp.remove(\"ff\")\n",
    "print(temp) #['bb', 'cc', 'dd', 'ee']\n",
    "\n",
    "#=====================================================\n",
    "#the difference of between append() and extend()\n",
    "\n",
    "temp1 = [\"aa\", \"bb\", \"cc\"]\n",
    "temp2 = [\"dd\", \"ee\"]\n",
    "\n",
    "temp1.append(temp2)\n",
    "print(temp1) #['aa', 'bb', 'cc', ['dd', 'ee']]\n",
    "\n",
    "temp1 = [\"aa\", \"bb\", \"cc\"]\n",
    "temp2 = [\"dd\", \"ee\"]\n",
    "\n",
    "temp1.extend(temp2)\n",
    "print(temp1) #['aa', 'bb', 'cc', 'dd', 'ee']\n",
    "\n",
    "#=====================================================\n",
    "# sort() : none argument, sorted() : have argument\n",
    "\n",
    "number=['one', 'two', 'three', 'four']\n",
    "newnumber = sorted(number)\n",
    "print(newnumber) #['four', 'one', 'three', 'two']\n",
    "print(number) #['one', 'two', 'three', 'four']\n",
    "\n",
    "number.sort()\n",
    "print(number) #['four', 'one', 'three', 'two']"
   ]
  },
  {
   "cell_type": "code",
   "execution_count": null,
   "metadata": {
    "collapsed": true
   },
   "outputs": [],
   "source": []
  }
 ],
 "metadata": {
  "kernelspec": {
   "display_name": "Python 3",
   "language": "python",
   "name": "python3"
  },
  "language_info": {
   "codemirror_mode": {
    "name": "ipython",
    "version": 3
   },
   "file_extension": ".py",
   "mimetype": "text/x-python",
   "name": "python",
   "nbconvert_exporter": "python",
   "pygments_lexer": "ipython3",
   "version": "3.6.0"
  }
 },
 "nbformat": 4,
 "nbformat_minor": 2
}
