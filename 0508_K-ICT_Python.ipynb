{
 "cells": [
  {
   "cell_type": "code",
   "execution_count": 2,
   "metadata": {
    "collapsed": true
   },
   "outputs": [],
   "source": [
    "import numpy as np\n",
    "import matplotlib.pyplot as plt\n",
    "import pandas as pd"
   ]
  },
  {
   "cell_type": "code",
   "execution_count": 17,
   "metadata": {
    "collapsed": false,
    "scrolled": true
   },
   "outputs": [
    {
     "data": {
      "text/plain": [
       "array([[ 0.84789148,  0.14833255],\n",
       "       [ 0.14722552,  0.16708592],\n",
       "       [ 0.93840016,  0.37308816],\n",
       "       [ 0.07529348,  0.69392473],\n",
       "       [ 0.89523498,  0.92926352],\n",
       "       [ 0.28513962,  0.04473662],\n",
       "       [ 0.03819843,  0.6295696 ],\n",
       "       [ 0.9537664 ,  0.46865733],\n",
       "       [ 0.63092942,  0.57787364],\n",
       "       [ 0.09993529,  0.57369794]])"
      ]
     },
     "execution_count": 17,
     "metadata": {},
     "output_type": "execute_result"
    }
   ],
   "source": [
    "from numpy import *\n",
    "random.rand(10, 2)"
   ]
  },
  {
   "cell_type": "code",
   "execution_count": 19,
   "metadata": {
    "collapsed": false
   },
   "outputs": [
    {
     "name": "stdout",
     "output_type": "stream",
     "text": [
      "3\n"
     ]
    }
   ],
   "source": [
    "a = 3\n",
    "print(a)"
   ]
  },
  {
   "cell_type": "code",
   "execution_count": 24,
   "metadata": {
    "collapsed": false
   },
   "outputs": [
    {
     "name": "stdout",
     "output_type": "stream",
     "text": [
      "4512.230000asdf\n"
     ]
    }
   ],
   "source": [
    "a = 45\n",
    "b = 12.23\n",
    "c = \"asdf\"\n",
    "\n",
    "print(\"%d%f%s\"%(a,b,c))"
   ]
  },
  {
   "cell_type": "code",
   "execution_count": 46,
   "metadata": {
    "collapsed": false
   },
   "outputs": [
    {
     "name": "stdout",
     "output_type": "stream",
     "text": [
      "2\n"
     ]
    }
   ],
   "source": [
    "a = 7\n",
    "b = 3\n",
    "print(a//b) #2\n",
    "print(a%3) #1\n",
    "print(a**b) #343"
   ]
  },
  {
   "cell_type": "code",
   "execution_count": 51,
   "metadata": {
    "collapsed": false
   },
   "outputs": [
    {
     "data": {
      "text/plain": [
       "'python is easy'"
      ]
     },
     "execution_count": 51,
     "metadata": {},
     "output_type": "execute_result"
    }
   ],
   "source": [
    "temp = 'python is easy'\n",
    "temp # 'python is easy'\n",
    "print(temp) #python is easy"
   ]
  },
  {
   "cell_type": "code",
   "execution_count": 55,
   "metadata": {
    "collapsed": false
   },
   "outputs": [
    {
     "data": {
      "text/plain": [
       "14"
      ]
     },
     "execution_count": 55,
     "metadata": {},
     "output_type": "execute_result"
    }
   ],
   "source": [
    "len(temp)"
   ]
  },
  {
   "cell_type": "code",
   "execution_count": 56,
   "metadata": {
    "collapsed": false
   },
   "outputs": [
    {
     "data": {
      "text/plain": [
       "'pythonis easy'"
      ]
     },
     "execution_count": 56,
     "metadata": {},
     "output_type": "execute_result"
    }
   ],
   "source": [
    "'python ' + 'is easy' #'pythonis easy'\n",
    "'python' + 'is easy' #'python is easy'"
   ]
  },
  {
   "cell_type": "code",
   "execution_count": 62,
   "metadata": {
    "collapsed": false
   },
   "outputs": [
    {
     "name": "stdout",
     "output_type": "stream",
     "text": [
      "python is easy\n"
     ]
    },
    {
     "data": {
      "text/plain": [
       "'python is easy'"
      ]
     },
     "execution_count": 62,
     "metadata": {},
     "output_type": "execute_result"
    }
   ],
   "source": [
    "a = 'python '\n",
    "b = 'is easy'\n",
    "print(a+b)\n",
    "a+b"
   ]
  },
  {
   "cell_type": "code",
   "execution_count": 64,
   "metadata": {
    "collapsed": false
   },
   "outputs": [
    {
     "data": {
      "text/plain": [
       "'pytho'"
      ]
     },
     "execution_count": 64,
     "metadata": {},
     "output_type": "execute_result"
    }
   ],
   "source": [
    "temp[0:5]"
   ]
  },
  {
   "cell_type": "code",
   "execution_count": 6,
   "metadata": {
    "collapsed": false
   },
   "outputs": [],
   "source": [
    "temp = 'python is easy'\n",
    "temp2 = 'python,java,R,SAS'\n",
    "temp = temp.split()\n",
    "temp2 = temp2.split(',')"
   ]
  },
  {
   "cell_type": "code",
   "execution_count": 12,
   "metadata": {
    "collapsed": false
   },
   "outputs": [
    {
     "data": {
      "text/plain": [
       "'python,java,R,SAS'"
      ]
     },
     "execution_count": 12,
     "metadata": {},
     "output_type": "execute_result"
    }
   ],
   "source": [
    "','.join(temp2)\n",
    "#list -> connect each word\n",
    "#non-list -> input 'n'"
   ]
  },
  {
   "cell_type": "code",
   "execution_count": 3,
   "metadata": {
    "collapsed": false
   },
   "outputs": [
    {
     "name": "stdout",
     "output_type": "stream",
     "text": [
      "is\n"
     ]
    }
   ],
   "source": [
    "temp = 'python is easy'\n",
    "print(temp[7:9])"
   ]
  },
  {
   "cell_type": "code",
   "execution_count": 19,
   "metadata": {
    "collapsed": false
   },
   "outputs": [
    {
     "name": "stdout",
     "output_type": "stream",
     "text": [
      "cc\n",
      "['bb', 'cc']\n",
      "['aa', 'cc', 'ee']\n",
      "['AA', 'bb', 'cc', 'dd', 'ee']\n",
      "['AA', 'bb', 'cc', 'dd', 'ee', 'ff']\n",
      "['bb', 'cc', 'dd', 'ee', 'ff']\n",
      "['bb', 'cc', 'dd', 'ee']\n",
      "['aa', 'bb', 'cc', ['dd', 'ee']]\n",
      "['aa', 'bb', 'cc', 'dd', 'ee']\n",
      "['four', 'one', 'three', 'two']\n",
      "['one', 'two', 'three', 'four']\n",
      "['four', 'one', 'three', 'two']\n"
     ]
    }
   ],
   "source": [
    "temp = [\"aa\", \"bb\", \"cc\", \"dd\", \"ee\"]\n",
    "print(temp[2]) #cc\n",
    "print(temp[1:3]) #['bb', 'cc']\n",
    "print(temp[::2]) #['aa', 'cc', 'ee']\n",
    "\n",
    "temp[0] = \"AA\"\n",
    "print(temp) #['AA', 'bb', 'cc', 'dd', 'ee']\n",
    "\n",
    "temp.append(\"ff\")\n",
    "print(temp) #['AA', 'bb', 'cc', 'dd', 'ee', 'ff']\n",
    "\n",
    "del temp[0]\n",
    "print(temp) #['bb', 'cc', 'dd', 'ee', 'ff']\n",
    "\n",
    "temp.remove(\"ff\")\n",
    "print(temp) #['bb', 'cc', 'dd', 'ee']\n",
    "\n",
    "#=====================================================\n",
    "#the difference of between append() and extend()\n",
    "\n",
    "temp1 = [\"aa\", \"bb\", \"cc\"]\n",
    "temp2 = [\"dd\", \"ee\"]\n",
    "\n",
    "temp1.append(temp2)\n",
    "print(temp1) #['aa', 'bb', 'cc', ['dd', 'ee']]\n",
    "\n",
    "temp1 = [\"aa\", \"bb\", \"cc\"]\n",
    "temp2 = [\"dd\", \"ee\"]\n",
    "\n",
    "temp1.extend(temp2)\n",
    "print(temp1) #['aa', 'bb', 'cc', 'dd', 'ee']\n",
    "\n",
    "#=====================================================\n",
    "# sort() : none argument, sorted() : have argument\n",
    "\n",
    "number=['one', 'two', 'three', 'four']\n",
    "newnumber = sorted(number)\n",
    "print(newnumber) #['four', 'one', 'three', 'two']\n",
    "print(number) #['one', 'two', 'three', 'four']\n",
    "\n",
    "number.sort()\n",
    "print(number) #['four', 'one', 'three', 'two']"
   ]
  },
  {
   "cell_type": "code",
   "execution_count": 34,
   "metadata": {
    "collapsed": false
   },
   "outputs": [
    {
     "name": "stdout",
     "output_type": "stream",
     "text": [
      "{'apple': 3500, 'peer': 2500, 'cherry': 5000}\n",
      "dict_keys(['apple', 'peer', 'cherry'])\n",
      "3500\n"
     ]
    },
    {
     "data": {
      "text/plain": [
       "['a', 'b', 'c']"
      ]
     },
     "execution_count": 34,
     "metadata": {},
     "output_type": "execute_result"
    }
   ],
   "source": [
    "#tuple, dictionary\n",
    "number = (1,2,3,4)\n",
    "type(number)\n",
    "\n",
    "fruit_price = [['apple', 3500], ['peer', 2500], ['cherry', 5000]]\n",
    "fruit_price = dict(fruit_price) # list to dict --> list lol \n",
    "print(fruit_price) #{'apple': 3500, 'peer': 2500, 'cherry': 5000}\n",
    "\n",
    "fruit_price = {'apple' : 3500, 'peer' : 2500, 'cherry' : 5000}\n",
    "print(fruit_price.keys()) #dict_keys(['apple', 'peer', 'cherry'])\n",
    "\n",
    "print(fruit_price['apple']) #3500\n",
    "\n",
    "school_class = {1:['a','b','c'], 2:['aa', 'bb', 'cc'], 3:['aaa', 'bbb', 'ccc']}\n",
    "school_class.get(1) #['a', 'b', 'c']\n",
    "#school_class[1]\n",
    "\n",
    "#dict have key, so can't indexing\n",
    "#but use pandas-dataframe, can indexing by number\n",
    "\n",
    "#extend = update()\n",
    "#del \"list_name\"[number]"
   ]
  },
  {
   "cell_type": "code",
   "execution_count": 37,
   "metadata": {
    "collapsed": false
   },
   "outputs": [
    {
     "name": "stdout",
     "output_type": "stream",
     "text": [
      "true\n",
      "false\n",
      "first condition is False, second condition is true\n"
     ]
    }
   ],
   "source": [
    "#if statements\n",
    "python = True\n",
    "if(python):\n",
    "    print(\"true\") #true\n",
    "\n",
    "#if~else statements\n",
    "python = False\n",
    "if(python):\n",
    "    print(\"true\")\n",
    "else:\n",
    "    print(\"false\") #false\n",
    "\n",
    "#if~elif~else statements\n",
    "python = False\n",
    "pycharm = True\n",
    "if(python):\n",
    "    print(\"first condition is true\")\n",
    "elif(pycharm):\n",
    "    print(\"first condition is False, second condition is true\")\n",
    "    #first condition is False, second condition is true\n",
    "else:\n",
    "    print(\"fisrt, second condition = false\")"
   ]
  },
  {
   "cell_type": "code",
   "execution_count": 49,
   "metadata": {
    "collapsed": false
   },
   "outputs": [
    {
     "name": "stdout",
     "output_type": "stream",
     "text": [
      "1\n",
      "2\n",
      "3\n",
      "4\n",
      "5\n",
      "6\n",
      "7\n",
      "8\n",
      "9\n",
      "apple\n",
      "peer\n",
      "cherry\n",
      "apple\n",
      "peer\n",
      "cherry\n",
      "3500\n",
      "2500\n",
      "5000\n",
      "('apple', 3500)\n",
      "('peer', 2500)\n",
      "('cherry', 5000)\n",
      "['apple', 'cherry']\n",
      "['peer']\n"
     ]
    }
   ],
   "source": [
    "#general for statements\n",
    "for i in range(1, 10):\n",
    "    print(i)\n",
    "    \n",
    "#list for statements\n",
    "fruit = ['apple', 'peer', 'cherry']\n",
    "type(fruit)\n",
    "for i in fruit:\n",
    "    print(i)\n",
    "    \n",
    "#dict for statements\n",
    "fruit_price = {'apple' : 3500, 'peer':2500, 'cherry' : 5000}\n",
    "for i in fruit_price.keys():\n",
    "    print(i)\n",
    "for i in fruit_price.values():\n",
    "    print(i)\n",
    "for i in fruit_price.items(): #example item1 = ('apple', 3500) --> item1[0] = key, item1[1] = value.\n",
    "    print(i)\n",
    "    #print(i[0])\n",
    "    #print(i[1])\n",
    "    \n",
    "#simple example\n",
    "high_price = []\n",
    "low_price = []\n",
    "fruit_price = {'apple' : 3500, 'peer' : 2500, 'cherry' : 5000}\n",
    "for i in fruit_price.items():\n",
    "    if(i[1] > 3000):\n",
    "        high_price.append(i[0])\n",
    "    else:\n",
    "        low_price.append(i[0])\n",
    "print(high_price) #['apple', 'cherry']\n",
    "print(low_price) #['peer']"
   ]
  },
  {
   "cell_type": "code",
   "execution_count": 66,
   "metadata": {
    "collapsed": false,
    "scrolled": false
   },
   "outputs": [
    {
     "name": "stdout",
     "output_type": "stream",
     "text": [
      "<_io.TextIOWrapper name='fruit.txt' mode='rt' encoding='UTF-8'>\n",
      "[\"('apple', 3500)\\n\", \"('peer', 2500)\\n\", \"('cherry', 5000)\\n\"]\n",
      "['apple']\n",
      "['peer']\n",
      "['cherry']\n",
      "['banana']\n",
      "['peach']\n"
     ]
    }
   ],
   "source": [
    "#make .txt/.csv file and print\n",
    "#make & write .txt file (1)\n",
    "fruit = open(\"fruit.txt\", 'wt') # make fruit.txt, write text\n",
    "fruit_price = {'apple' : 3500, 'peer' : 2500, 'cherry' : 5000}\n",
    "for i in fruit_price.items():\n",
    "    print(i,file=fruit) #write item in fruit.txt\n",
    "fruit.close() #close fruit.txt\n",
    "\n",
    "#make & write .txt file (2)\n",
    "fruit = open(\"fruit2.txt\", 'wt')\n",
    "fruit.write('apple 3500\\n')\n",
    "fruit.write('peer 2500\\n')\n",
    "fruit.write('cherry 5000\\n')\n",
    "fruit.close()\n",
    "\n",
    "#make .csv file\n",
    "import csv \n",
    "with open('fruit.csv', 'w', newline=\"\") as fruit: #newline is option, s\n",
    "    writer = csv.writer(fruit, delimiter=',')\n",
    "    writer.writerow(['apple'])\n",
    "    writer.writerow(['peer'])\n",
    "    writer.writerow(['cherry'])\n",
    "    writer.writerow(['banana'])\n",
    "    writer.writerow(['peach'])\n",
    "    \n",
    "#output .txt file\n",
    "fruit_path = open('fruit.txt', 'rt')\n",
    "print(fruit_path) #<_io.TextIOWrapper name='fruit.txt' mode='rt' encoding='UTF-8'>\n",
    "\n",
    "fruit = fruit_path.readlines()\n",
    "print(fruit) #[\"('apple', 3500)\\n\", \"('peer', 2500)\\n\", \"('cherry', 5000)\\n\"]]\n",
    "\n",
    "#output .csv file\n",
    "f = open('fruit.csv', 'rt')\n",
    "csvRead = csv.reader(f)\n",
    "csvRead\n",
    "\n",
    "fruit = []\n",
    "for i in csvRead:\n",
    "    fruit.append(i)\n",
    "    print(i) "
   ]
  },
  {
   "cell_type": "code",
   "execution_count": 77,
   "metadata": {
    "collapsed": false,
    "scrolled": true
   },
   "outputs": [
    {
     "name": "stdout",
     "output_type": "stream",
     "text": [
      "apple     2500\n",
      "banana    3800\n",
      "peer      1200\n",
      "cherry    6000\n",
      "dtype: int64\n",
      "[2500 3800 1200 6000]\n",
      "Index(['apple', 'banana', 'peer', 'cherry'], dtype='object')\n",
      "fruitName\n",
      "apple     2500\n",
      "banana    3800\n",
      "peer      1200\n",
      "cherry    6000\n",
      "Name: fruitPrice, dtype: int64\n",
      "  fruitName  fruitPrice  num\n",
      "0     apple        2500   10\n",
      "1    banana        3800    5\n",
      "2    cherry        6000    3\n",
      "3      peer        1200    8\n",
      "   fruitPrice  num fruitName\n",
      "0        2500   10     apple\n",
      "1        3800    5    banana\n",
      "2        6000    3    cherry\n",
      "3        1200    8      peer\n",
      "0     apple\n",
      "1    banana\n",
      "2    cherry\n",
      "3      peer\n",
      "Name: fruitName, dtype: object\n",
      "   fruitPrice  num fruitName  year\n",
      "0        2500   10     apple  2016\n",
      "1        3800    5    banana  2016\n",
      "2        6000    3    cherry  2016\n",
      "3        1200    8      peer  2016\n",
      "   fruitPrice  num fruitName  year  stock\n",
      "0        2500   10     apple  2016    4.0\n",
      "1        3800    5    banana  2016    NaN\n",
      "2        6000    3    cherry  2016    2.0\n",
      "3        1200    8      peer  2016    1.0\n",
      "        fruitPrice  num\n",
      "apple         2500   10\n",
      "banana        3800    5\n",
      "cherry        6000    3\n",
      "peer          1200    8\n",
      "        fruitPrice  num\n",
      "banana        3800    5\n",
      "peer          1200    8\n",
      "        fruitPrice  num\n",
      "apple         2500   10\n",
      "banana        3800    5\n",
      "cherry        6000    3\n",
      "peer          1200    8\n",
      "apple     2500\n",
      "banana    3800\n",
      "cherry    6000\n",
      "peer      1200\n",
      "Name: fruitPrice, dtype: int64\n",
      "        fruitPrice  num\n",
      "apple         2500   10\n",
      "banana        3800    5\n"
     ]
    }
   ],
   "source": [
    "from pandas import Series, DataFrame #use Series, DataFrame\n",
    "import pandas as pd #call pandas to 'pd'\n",
    "\n",
    "#Series([Value], index=[Index]) likes dictionary\n",
    "#Warning : data structure is very different(between Series and dictionary) \n",
    "fruit = Series([2500, 3800, 1200, 6000], index=['apple','banana','peer','cherry'])\n",
    "print(fruit)\n",
    "print(fruit.values) #dtype: int64 [2500 3800 1200 6000]\n",
    "print(fruit.index) #Index(['apple', 'banana', 'peer', 'cherry'], dtype='object')\n",
    "\n",
    "fruit.name = 'fruitPrice' #value name\n",
    "fruit.index.name = 'fruitName' #index name\n",
    "print(fruit)\n",
    "\n",
    "#==================================================================\n",
    "#Dataframe{'index1 : ['value1'], 'index2' : ['value2'],,,}\n",
    "#index = column, value = element\n",
    "#Each entry in the dictionary can be converted into a column in a data frame. \n",
    "fruitData = {'fruitName':['apple', 'banana', 'cherry', 'peer'],\n",
    "             'fruitPrice':[2500,3800,6000,1200],\n",
    "             'num':[10,5,3,8]}\n",
    "fruitFrame = DataFrame(fruitData)\n",
    "print(fruitFrame)\n",
    "\n",
    "#set a column sequence\n",
    "fruitFrame = DataFrame(fruitData, columns = ['fruitPrice', 'num', 'fruitName'])\n",
    "print(fruitFrame)\n",
    "\n",
    "#select particular column\n",
    "print(fruitFrame['fruitName'])\n",
    "#print(fruitFrame.fruitName)\n",
    "\n",
    "#add column - same value\n",
    "fruitFrame['year'] = 2016\n",
    "print(fruitFrame)\n",
    "\n",
    "#add column - difference value\n",
    "variable = Series([4,2,1], index=[0,2,3])\n",
    "fruitFrame['stock'] = variable\n",
    "print(fruitFrame)\n",
    "\n",
    "#Dataframe delete row : drop()\n",
    "fruitName = fruitData['fruitName'] #get value of 'fruitName'\n",
    "fruitFrame = DataFrame(fruitData, index = fruitName, columns = ['fruitPrice', 'num'])\n",
    "fruitFrame2 = fruitFrame.drop(['apple','cherry'])\n",
    "print(fruitFrame)\n",
    "print(fruitFrame2)\n",
    "\n",
    "#Dataframe slice\n",
    "fruitName = fruitData['fruitName']\n",
    "fruitFrame = DataFrame(fruitData, index=fruitName, columns=['fruitPrice', 'num'])\n",
    "print(fruitFrame)\n",
    "print(fruitFrame['fruitPrice']) #get particular column's values\n",
    "print(fruitFrame['apple':'banana']) #get particular index's columns & values\n"
   ]
  },
  {
   "cell_type": "code",
   "execution_count": null,
   "metadata": {
    "collapsed": true
   },
   "outputs": [],
   "source": []
  }
 ],
 "metadata": {
  "kernelspec": {
   "display_name": "Python 3",
   "language": "python",
   "name": "python3"
  },
  "language_info": {
   "codemirror_mode": {
    "name": "ipython",
    "version": 3
   },
   "file_extension": ".py",
   "mimetype": "text/x-python",
   "name": "python",
   "nbconvert_exporter": "python",
   "pygments_lexer": "ipython3",
   "version": "3.6.0"
  }
 },
 "nbformat": 4,
 "nbformat_minor": 2
}
